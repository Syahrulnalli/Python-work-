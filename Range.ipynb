{
  "nbformat": 4,
  "nbformat_minor": 0,
  "metadata": {
    "colab": {
      "provenance": []
    },
    "kernelspec": {
      "name": "python3",
      "display_name": "Python 3"
    },
    "language_info": {
      "name": "python"
    }
  },
  "cells": [
    {
      "cell_type": "code",
      "execution_count": null,
      "metadata": {
        "id": "srLRGYndZZ7Z"
      },
      "outputs": [],
      "source": [
        "start = int(input(\"Start: \"))\n",
        "end = int(input(\"End: \"))\n",
        "\n",
        "for num in range(start, end + 1):\n",
        "    if num % 2 == 0:\n",
        "        print(num)"
      ]
    }
  ]
}